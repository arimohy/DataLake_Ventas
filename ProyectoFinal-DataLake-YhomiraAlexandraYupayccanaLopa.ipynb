{
 "cells": [
  {
   "cell_type": "markdown",
   "metadata": {
    "application/vnd.databricks.v1+cell": {
     "cellMetadata": {
      "byteLimit": 2048000,
      "rowLimit": 10000
     },
     "inputWidgets": {},
     "nuid": "356e95d1-4ea0-4776-a2a3-e45cbfdccdbd",
     "showTitle": false,
     "tableResultSettingsMap": {},
     "title": ""
    }
   },
   "source": [
    "# Proyecto Final: DataLake en Databricks\n",
    "### Alumna: Yhomira Alexandra Yupayccana Lopa\n",
    "\n",
    "Este proyecto tiene como objetivo implementar un DataLake utilizando la arquitectura **Medallón**. \n",
    "La arquitectura medallón organiza los datos en tres capas:\n",
    "- **Bronze**: Guardar los archivos en el mismo formato de Origen.\n",
    "- **Silver**: Crear tablas deltas a partir de los archivos guardados en la capa Bronze.\n",
    "- **Golden**:Implementar los reportes finales en tablas Delta..\n",
    "\n",
    "### Tecnologías Utilizadas\n",
    "- **Databricks**: Para el procesamiento y almacenamiento de datos.\n",
    "- **PySpark**: Para transformar y analizar los datos.\n",
    "\n",
    "### Estructura del Notebook\n",
    "1. Configuración inicial del entorno.\n",
    "2. Transformaciones Capa Bronce.\n",
    "3. Transformaciones Capa Silver.\n",
    "4. Transformaciones Capa Golden.\n",
    "\n",
    "\n",
    "A continuación, se detallan los pasos realizados.\n"
   ]
  },
  {
   "cell_type": "markdown",
   "metadata": {
    "application/vnd.databricks.v1+cell": {
     "cellMetadata": {},
     "inputWidgets": {},
     "nuid": "a3d1621c-c1a3-4ed7-ac1b-41e503966c9a",
     "showTitle": false,
     "tableResultSettingsMap": {},
     "title": ""
    }
   },
   "source": [
    "## 1. Configuración inicial del entorno."
   ]
  },
  {
   "cell_type": "code",
   "execution_count": 0,
   "metadata": {
    "application/vnd.databricks.v1+cell": {
     "cellMetadata": {
      "byteLimit": 2048000,
      "rowLimit": 10000
     },
     "inputWidgets": {},
     "nuid": "7813c8fe-ad3c-4978-94c0-b301d169ada1",
     "showTitle": false,
     "tableResultSettingsMap": {},
     "title": ""
    }
   },
   "outputs": [
    {
     "output_type": "stream",
     "name": "stdout",
     "output_type": "stream",
     "text": [
      "Out[2]: [FileInfo(path='dbfs:/DATALAKE-DSRP/', name='DATALAKE-DSRP/', size=0, modificationTime=0),\n FileInfo(path='dbfs:/DATALAKE-PROYECTOFINAL/', name='DATALAKE-PROYECTOFINAL/', size=0, modificationTime=0),\n FileInfo(path='dbfs:/FileStore/', name='FileStore/', size=0, modificationTime=0),\n FileInfo(path='dbfs:/LAKE-DSRP/', name='LAKE-DSRP/', size=0, modificationTime=0),\n FileInfo(path='dbfs:/databricks-datasets/', name='databricks-datasets/', size=0, modificationTime=0),\n FileInfo(path='dbfs:/databricks-results/', name='databricks-results/', size=0, modificationTime=0),\n FileInfo(path='dbfs:/user/', name='user/', size=0, modificationTime=0)]"
     ]
    }
   ],
   "source": [
    "dbutils.fs.ls(\"dbfs:/\")"
   ]
  },
  {
   "cell_type": "code",
   "execution_count": 0,
   "metadata": {
    "application/vnd.databricks.v1+cell": {
     "cellMetadata": {
      "byteLimit": 2048000,
      "rowLimit": 10000
     },
     "inputWidgets": {},
     "nuid": "206abebf-bca4-455c-a6b4-654e4fb343a7",
     "showTitle": false,
     "tableResultSettingsMap": {},
     "title": ""
    }
   },
   "outputs": [
    {
     "output_type": "stream",
     "name": "stdout",
     "output_type": "stream",
     "text": [
      "Out[3]: True"
     ]
    }
   ],
   "source": [
    "dbutils.fs.mkdirs(\"dbfs:/DATALAKE-PROYECTOFINAL\")"
   ]
  },
  {
   "cell_type": "code",
   "execution_count": 0,
   "metadata": {
    "application/vnd.databricks.v1+cell": {
     "cellMetadata": {
      "byteLimit": 2048000,
      "rowLimit": 10000
     },
     "inputWidgets": {},
     "nuid": "e8c1fac8-598b-4dc0-ac53-760ad580b6a0",
     "showTitle": false,
     "tableResultSettingsMap": {},
     "title": ""
    }
   },
   "outputs": [],
   "source": [
    "# Lista de nombres de carpetas SEGUN LA ARQUITECTURA MEDALLON\n",
    "carpetas = [\"dbfs:/DATALAKE-PROYECTOFINAL/bronze\", \"dbfs:/DATALAKE-PROYECTOFINAL/silver\", \"dbfs:/DATALAKE-PROYECTOFINAL/golden\"]\n",
    "# Crear las carpetas usando un bucle\n",
    "for carpeta in carpetas:\n",
    "    dbutils.fs.mkdirs(carpeta)"
   ]
  },
  {
   "cell_type": "code",
   "execution_count": 0,
   "metadata": {
    "application/vnd.databricks.v1+cell": {
     "cellMetadata": {
      "byteLimit": 2048000,
      "rowLimit": 10000
     },
     "inputWidgets": {},
     "nuid": "603fb1cd-4dd5-429e-a9d8-be2d457b23b0",
     "showTitle": false,
     "tableResultSettingsMap": {},
     "title": ""
    }
   },
   "outputs": [
    {
     "output_type": "stream",
     "name": "stdout",
     "output_type": "stream",
     "text": [
      "Out[5]: True"
     ]
    }
   ],
   "source": [
    "dbutils.fs.mkdirs(\"dbfs:/FileStore/temp\")"
   ]
  },
  {
   "cell_type": "markdown",
   "metadata": {
    "application/vnd.databricks.v1+cell": {
     "cellMetadata": {
      "byteLimit": 2048000,
      "rowLimit": 10000
     },
     "inputWidgets": {},
     "nuid": "7638e7d8-0b2c-43ca-a0e3-8e73a1d66105",
     "showTitle": false,
     "tableResultSettingsMap": {},
     "title": ""
    }
   },
   "source": [
    "## 2. Transformaciones Capa Bronce\n",
    "\n",
    "En esta sección, se cargan los datos iniciales y se almacenan en la capa **Bronze** del DataLake.\n",
    "Los datos se encuentran en formato CSV .\n"
   ]
  },
  {
   "cell_type": "code",
   "execution_count": 0,
   "metadata": {
    "application/vnd.databricks.v1+cell": {
     "cellMetadata": {
      "byteLimit": 2048000,
      "rowLimit": 10000
     },
     "inputWidgets": {},
     "nuid": "4dacd1dc-c147-444a-8f4e-5d3c212ec28a",
     "showTitle": false,
     "tableResultSettingsMap": {},
     "title": ""
    }
   },
   "outputs": [
    {
     "output_type": "stream",
     "name": "stdout",
     "output_type": "stream",
     "text": [
      "Out[6]: True"
     ]
    }
   ],
   "source": [
    "#Copiar los archivos de /temp a bronze:\n",
    "dbutils.fs.cp(\"dbfs:/FileStore/temp/clientes.csv\", \"dbfs:/DATALAKE-PROYECTOFINAL/bronze\")\n",
    "dbutils.fs.cp(\"dbfs:/FileStore/temp/productos.csv\", \"dbfs:/DATALAKE-PROYECTOFINAL/bronze\")\n",
    "dbutils.fs.cp(\"dbfs:/FileStore/temp/ventas.csv\", \"dbfs:/DATALAKE-PROYECTOFINAL/bronze\")"
   ]
  },
  {
   "cell_type": "code",
   "execution_count": 0,
   "metadata": {
    "application/vnd.databricks.v1+cell": {
     "cellMetadata": {
      "byteLimit": 2048000,
      "rowLimit": 10000
     },
     "inputWidgets": {},
     "nuid": "f87a81e2-0a87-4a1a-a8e4-c81cb4a0d256",
     "showTitle": false,
     "tableResultSettingsMap": {},
     "title": ""
    }
   },
   "outputs": [],
   "source": [
    "#Lectura de los csv en dataframes\n",
    "clientes_df = spark.read.csv(\"dbfs:/DATALAKE-PROYECTOFINAL/bronze/clientes.csv\", header=True)\n",
    "productos_df = spark.read.csv(\"dbfs:/DATALAKE-PROYECTOFINAL/bronze/productos.csv\", header=True)\n",
    "ventas_df = spark.read.csv(\"dbfs:/DATALAKE-PROYECTOFINAL/bronze/ventas.csv\", header=True)"
   ]
  },
  {
   "cell_type": "code",
   "execution_count": 0,
   "metadata": {
    "application/vnd.databricks.v1+cell": {
     "cellMetadata": {
      "byteLimit": 2048000,
      "rowLimit": 10000
     },
     "inputWidgets": {},
     "nuid": "b6501996-b8e6-4773-bf2c-e27fc7808ac6",
     "showTitle": false,
     "tableResultSettingsMap": {},
     "title": ""
    }
   },
   "outputs": [
    {
     "output_type": "stream",
     "name": "stdout",
     "output_type": "stream",
     "text": [
      "+----------+-----------------+--------------------+----------------+---------+\n|id_cliente|           nombre|              correo|          ciudad| telefono|\n+----------+-----------------+--------------------+----------------+---------+\n|         1|     Carlos Perez|carlos.perez@gmai...|            Lima|987654321|\n|         2|         Ana Ruiz|ana.ruiz@hotmail.com|        Huancayo|987654322|\n|         3|       Juan Gomez|juan.gomez@yahoo.com|        Trujillo|987654323|\n|         4|    Lucia Sanchez|lucia.sanchez@gma...|        Chiclayo|987654324|\n|         5|     Pedro Torres|pedro.torres@hotm...|        Arequipa|987654325|\n|         6|    Sofia Jimenez|sofia.jimenez@gma...|           Piura|987654326|\n|         7|      Martin Diaz|martin.diaz@yahoo...|             Ica|987654327|\n|         8|      Carla Rojas|carla.rojas@gmail...|           Cusco|987654328|\n|         9|   Fernando Silva|fernando.silva@ho...|            Lima|987654329|\n|        10|     Laura Chavez|laura.chavez@gmai...|         Huanuco|987654330|\n|        11|     Diego Vargas|diego.vargas@gmai...|            Puno|987654331|\n|        12|     Daniela Vega|daniela.vega@hotm...|           Tacna|987654332|\n|        13|   Santiago Reyes|santiago.reyes@gm...|       Moyobamba|987654333|\n|        14|      Maria Lopez|maria.lopez@gmail...|        Ayacucho|987654334|\n|        15|    Luis Castillo|luis.castillo@hot...|Puerto Maldonado|987654335|\n|        16|   Andrea Paredes|andrea.paredes@gm...|          Huaraz|987654336|\n|        17|  Rafael Montalvo|rafael.montalvo@g...|       Cajamarca|987654337|\n|        18|    Clara Mendoza|clara.mendoza@hot...|         Juliaca|987654338|\n|        19|Roberto Fernandez|roberto.fernandez...|          Loreto|987654339|\n|        20|  Paola Gutierrez|paola.gutierrez@g...|         Iquitos|987654340|\n+----------+-----------------+--------------------+----------------+---------+\nonly showing top 20 rows\n\n"
     ]
    }
   ],
   "source": [
    "clientes_df.show()"
   ]
  },
  {
   "cell_type": "code",
   "execution_count": 0,
   "metadata": {
    "application/vnd.databricks.v1+cell": {
     "cellMetadata": {
      "byteLimit": 2048000,
      "rowLimit": 10000
     },
     "inputWidgets": {},
     "nuid": "39ff085b-ecb6-4d90-9606-0d00e5845004",
     "showTitle": false,
     "tableResultSettingsMap": {},
     "title": ""
    }
   },
   "outputs": [
    {
     "output_type": "stream",
     "name": "stdout",
     "output_type": "stream",
     "text": [
      "+-----------+--------------------+-----------+-------+--------------+\n|id_producto|     nombre_producto|  categoria| precio|cantidad_stock|\n+-----------+--------------------+-----------+-------+--------------+\n|          1|          Laptop Pro|Electronica|1200.50|            50|\n|          2|        Smartphone X|Electronica| 800.00|           150|\n|          3|        Televisor HD|Electronica| 550.00|            30|\n|          4|   Zapatillas Runner|   Deportes|  75.00|           200|\n|          5|   Bicicleta Montana|   Deportes| 450.00|            20|\n|          6|         Mouse Gamer|Electronica|  35.00|           300|\n|          7|    Teclado Mecanico|Electronica|  85.00|           120|\n|          8|       Camara Reflex|Electronica| 900.00|            25|\n|          9|Auriculares Bluet...|Electronica| 120.00|           250|\n|         10|     Reloj Deportivo|   Deportes|  50.00|           180|\n|         11|    Silla de Oficina|    Oficina| 150.00|            40|\n|         12| Escritorio Compacto|    Oficina| 200.00|            30|\n|         13|    Cuaderno Premium|    Oficina|   5.00|           500|\n|         14|      Boligrafo Pack|    Oficina|  10.00|           400|\n|         15|         Monitor LED|Electronica| 250.00|            60|\n|         16|           Tablet 10|Electronica| 400.00|            80|\n|         17|Parlantes Portatiles|Electronica|  95.00|           150|\n|         18|      Mochila Urbana| Accesorios|  35.00|           300|\n|         19|       Lentes de Sol| Accesorios|  20.00|           350|\n|         20|    Cartera de Cuero| Accesorios| 120.00|            50|\n+-----------+--------------------+-----------+-------+--------------+\nonly showing top 20 rows\n\n"
     ]
    }
   ],
   "source": [
    "productos_df.show()"
   ]
  },
  {
   "cell_type": "code",
   "execution_count": 0,
   "metadata": {
    "application/vnd.databricks.v1+cell": {
     "cellMetadata": {
      "byteLimit": 2048000,
      "rowLimit": 10000
     },
     "inputWidgets": {},
     "nuid": "4312e1be-ad62-4281-8e61-8a81694b94e1",
     "showTitle": false,
     "tableResultSettingsMap": {},
     "title": ""
    }
   },
   "outputs": [
    {
     "output_type": "stream",
     "name": "stdout",
     "output_type": "stream",
     "text": [
      "+--------+----------+-----------+-----------+----------------+-----------+\n|id_venta|id_cliente|id_producto|fecha_venta|cantidad_vendida|total_venta|\n+--------+----------+-----------+-----------+----------------+-----------+\n|       1|         1|          1| 2023-01-01|               2|    2401.00|\n|       2|         1|          2| 2023-01-02|               1|     800.00|\n|       3|         2|          3| 2023-01-03|               5|    2750.00|\n|       4|         3|          4| 2023-01-04|               3|     225.00|\n|       5|         3|          7| 2023-01-05|               1|      85.00|\n|       6|         4|          9| 2023-01-06|               2|     240.00|\n|       7|         5|          8| 2023-01-07|               4|     360.00|\n|       8|         5|          6| 2023-01-08|               1|      35.00|\n|       9|         6|         10| 2023-01-09|               3|     255.00|\n|      10|         7|         11| 2023-01-10|               5|     750.00|\n|      11|         8|         12| 2023-01-11|               2|     400.00|\n|      12|         8|         15| 2023-01-12|               1|     250.00|\n|      13|         9|         14| 2023-01-13|               4|     200.00|\n|      14|         9|         16| 2023-01-14|               2|     500.00|\n|      15|        10|         17| 2023-01-15|               6|     570.00|\n|      16|        11|         18| 2023-01-16|               3|     450.00|\n|      17|        12|         19| 2023-01-17|               7|     140.00|\n|      18|        13|         20| 2023-01-18|               2|     240.00|\n|      19|        14|         21| 2023-01-19|               8|     120.00|\n|      20|        14|         22| 2023-01-20|               1|      30.00|\n+--------+----------+-----------+-----------+----------------+-----------+\nonly showing top 20 rows\n\n"
     ]
    }
   ],
   "source": [
    "ventas_df.show()"
   ]
  },
  {
   "cell_type": "markdown",
   "metadata": {
    "application/vnd.databricks.v1+cell": {
     "cellMetadata": {},
     "inputWidgets": {},
     "nuid": "8d327b5a-01af-41bf-9bd1-cc5c91f19672",
     "showTitle": false,
     "tableResultSettingsMap": {},
     "title": ""
    }
   },
   "source": [
    "## 3. Transformaciones Capa Silver\n",
    "En esta sección, se crea el esquema para guardar las tablas delta tomando los datos de la capa bronce y observamos las respectivas tablas para modificar la estructura si es necesario."
   ]
  },
  {
   "cell_type": "code",
   "execution_count": 0,
   "metadata": {
    "application/vnd.databricks.v1+cell": {
     "cellMetadata": {
      "byteLimit": 2048000,
      "implicitDf": true,
      "rowLimit": 10000
     },
     "inputWidgets": {},
     "nuid": "e3a4b70b-c47e-45f7-a63b-324602cf2e4c",
     "showTitle": false,
     "tableResultSettingsMap": {},
     "title": ""
    }
   },
   "outputs": [
    {
     "output_type": "display_data",
     "data": {
      "text/html": [
       "<style scoped>\n",
       "  .table-result-container {\n",
       "    max-height: 300px;\n",
       "    overflow: auto;\n",
       "  }\n",
       "  table, th, td {\n",
       "    border: 1px solid black;\n",
       "    border-collapse: collapse;\n",
       "  }\n",
       "  th, td {\n",
       "    padding: 5px;\n",
       "  }\n",
       "  th {\n",
       "    text-align: left;\n",
       "  }\n",
       "</style><div class='table-result-container'><table class='table-result'><thead style='background-color: white'><tr></tr></thead><tbody></tbody></table></div>"
      ]
     },
     "metadata": {
      "application/vnd.databricks.v1+output": {
       "addedWidgets": {},
       "aggData": [],
       "aggError": "",
       "aggOverflow": false,
       "aggSchema": [],
       "aggSeriesLimitReached": false,
       "aggType": "",
       "arguments": {},
       "columnCustomDisplayInfos": {},
       "data": [],
       "datasetInfos": [],
       "dbfsResultPath": null,
       "isJsonSchema": true,
       "metadata": {},
       "overflow": false,
       "plotOptions": {
        "customPlotOptions": {},
        "displayType": "table",
        "pivotAggregation": null,
        "pivotColumns": null,
        "xColumns": null,
        "yColumns": null
       },
       "removedWidgets": [],
       "schema": [],
       "type": "table"
      }
     },
     "output_type": "display_data"
    }
   ],
   "source": [
    "%sql\n",
    "create schema if not exists proyectofinal;"
   ]
  },
  {
   "cell_type": "code",
   "execution_count": 0,
   "metadata": {
    "application/vnd.databricks.v1+cell": {
     "cellMetadata": {
      "byteLimit": 2048000,
      "rowLimit": 10000
     },
     "inputWidgets": {},
     "nuid": "bd2ecfa3-cb6d-46f4-8d52-0dd65a966860",
     "showTitle": false,
     "tableResultSettingsMap": {},
     "title": ""
    }
   },
   "outputs": [
    {
     "output_type": "stream",
     "name": "stdout",
     "output_type": "stream",
     "text": [
      "root\n |-- id_cliente: string (nullable = true)\n |-- nombre: string (nullable = true)\n |-- correo: string (nullable = true)\n |-- ciudad: string (nullable = true)\n |-- telefono: string (nullable = true)\n\n"
     ]
    }
   ],
   "source": [
    "clientes_df.printSchema()"
   ]
  },
  {
   "cell_type": "code",
   "execution_count": 0,
   "metadata": {
    "application/vnd.databricks.v1+cell": {
     "cellMetadata": {
      "byteLimit": 2048000,
      "rowLimit": 10000
     },
     "inputWidgets": {},
     "nuid": "98b587b5-332a-4275-a49c-2ceb74a1f58b",
     "showTitle": false,
     "tableResultSettingsMap": {},
     "title": ""
    }
   },
   "outputs": [],
   "source": [
    "clientes_df = clientes_df.withColumnRenamed(\"teléfono\", \"telefono\")"
   ]
  },
  {
   "cell_type": "code",
   "execution_count": 0,
   "metadata": {
    "application/vnd.databricks.v1+cell": {
     "cellMetadata": {
      "byteLimit": 2048000,
      "rowLimit": 10000
     },
     "inputWidgets": {},
     "nuid": "7fa1dcb4-c956-4493-8c13-75945d8a98a6",
     "showTitle": false,
     "tableResultSettingsMap": {},
     "title": ""
    }
   },
   "outputs": [
    {
     "output_type": "stream",
     "name": "stdout",
     "output_type": "stream",
     "text": [
      "Out[15]: True"
     ]
    }
   ],
   "source": [
    "dbutils.fs.rm(\"dbfs:/DATALAKE-PROYECTOFINAL/silver/data/CLIENTES_DELTA\", recurse=True)"
   ]
  },
  {
   "cell_type": "code",
   "execution_count": 0,
   "metadata": {
    "application/vnd.databricks.v1+cell": {
     "cellMetadata": {
      "byteLimit": 2048000,
      "implicitDf": true,
      "rowLimit": 10000
     },
     "inputWidgets": {},
     "nuid": "46b40060-db70-4216-8d1e-c4c20dd35566",
     "showTitle": false,
     "tableResultSettingsMap": {},
     "title": ""
    }
   },
   "outputs": [
    {
     "output_type": "display_data",
     "data": {
      "text/html": [
       "<style scoped>\n",
       "  .table-result-container {\n",
       "    max-height: 300px;\n",
       "    overflow: auto;\n",
       "  }\n",
       "  table, th, td {\n",
       "    border: 1px solid black;\n",
       "    border-collapse: collapse;\n",
       "  }\n",
       "  th, td {\n",
       "    padding: 5px;\n",
       "  }\n",
       "  th {\n",
       "    text-align: left;\n",
       "  }\n",
       "</style><div class='table-result-container'><table class='table-result'><thead style='background-color: white'><tr></tr></thead><tbody></tbody></table></div>"
      ]
     },
     "metadata": {
      "application/vnd.databricks.v1+output": {
       "addedWidgets": {},
       "aggData": [],
       "aggError": "",
       "aggOverflow": false,
       "aggSchema": [],
       "aggSeriesLimitReached": false,
       "aggType": "",
       "arguments": {},
       "columnCustomDisplayInfos": {},
       "data": [],
       "datasetInfos": [],
       "dbfsResultPath": null,
       "isJsonSchema": true,
       "metadata": {},
       "overflow": false,
       "plotOptions": {
        "customPlotOptions": {},
        "displayType": "table",
        "pivotAggregation": null,
        "pivotColumns": null,
        "xColumns": null,
        "yColumns": null
       },
       "removedWidgets": [],
       "schema": [],
       "type": "table"
      }
     },
     "output_type": "display_data"
    }
   ],
   "source": [
    "%sql\n",
    "-- Creamos las tablas input\n",
    "--Clientes\n",
    "DROP TABLE IF EXISTS proyectofinal.clientes_delta;\n",
    "CREATE OR REPLACE TABLE proyectofinal.clientes_delta\n",
    "(\n",
    "    id_cliente STRING,\n",
    "    nombre STRING,\n",
    "    correo STRING,\n",
    "    ciudad STRING,\n",
    "    telefono STRING\n",
    ")\n",
    "USING DELTA\n",
    "LOCATION 'dbfs:/DATALAKE-PROYECTOFINAL/silver/data/CLIENTES_DELTA';"
   ]
  },
  {
   "cell_type": "code",
   "execution_count": 0,
   "metadata": {
    "application/vnd.databricks.v1+cell": {
     "cellMetadata": {
      "byteLimit": 2048000,
      "rowLimit": 10000
     },
     "inputWidgets": {},
     "nuid": "fce0b905-903a-4b44-8ebe-5c28ec8b2e50",
     "showTitle": false,
     "tableResultSettingsMap": {},
     "title": ""
    }
   },
   "outputs": [
    {
     "output_type": "stream",
     "name": "stdout",
     "output_type": "stream",
     "text": [
      "root\n |-- id_producto: string (nullable = true)\n |-- nombre_producto: string (nullable = true)\n |-- categoria: string (nullable = true)\n |-- precio: string (nullable = true)\n |-- cantidad_stock: string (nullable = true)\n\n"
     ]
    }
   ],
   "source": [
    "productos_df.printSchema()"
   ]
  },
  {
   "cell_type": "code",
   "execution_count": 0,
   "metadata": {
    "application/vnd.databricks.v1+cell": {
     "cellMetadata": {
      "byteLimit": 2048000,
      "rowLimit": 10000
     },
     "inputWidgets": {},
     "nuid": "f0049677-9d8c-428a-8fd4-76c772daf466",
     "showTitle": false,
     "tableResultSettingsMap": {},
     "title": ""
    }
   },
   "outputs": [],
   "source": [
    "productos_df = productos_df.withColumnRenamed(\"categoría\", \"categoria\")"
   ]
  },
  {
   "cell_type": "code",
   "execution_count": 0,
   "metadata": {
    "application/vnd.databricks.v1+cell": {
     "cellMetadata": {
      "byteLimit": 2048000,
      "rowLimit": 10000
     },
     "inputWidgets": {},
     "nuid": "9b4d9bb9-8a74-47fe-a109-e4cf9fa6cd0d",
     "showTitle": false,
     "tableResultSettingsMap": {},
     "title": ""
    }
   },
   "outputs": [
    {
     "output_type": "stream",
     "name": "stdout",
     "output_type": "stream",
     "text": [
      "Out[19]: True"
     ]
    }
   ],
   "source": [
    "dbutils.fs.rm(\"dbfs:/DATALAKE-PROYECTOFINAL/silver/data/PRODUCTOS_DELTA\", recurse=True)"
   ]
  },
  {
   "cell_type": "code",
   "execution_count": 0,
   "metadata": {
    "application/vnd.databricks.v1+cell": {
     "cellMetadata": {
      "byteLimit": 2048000,
      "implicitDf": true,
      "rowLimit": 10000
     },
     "inputWidgets": {},
     "nuid": "d68badd8-9e93-44f7-a0ca-ba968868641b",
     "showTitle": false,
     "tableResultSettingsMap": {},
     "title": ""
    }
   },
   "outputs": [
    {
     "output_type": "display_data",
     "data": {
      "text/html": [
       "<style scoped>\n",
       "  .table-result-container {\n",
       "    max-height: 300px;\n",
       "    overflow: auto;\n",
       "  }\n",
       "  table, th, td {\n",
       "    border: 1px solid black;\n",
       "    border-collapse: collapse;\n",
       "  }\n",
       "  th, td {\n",
       "    padding: 5px;\n",
       "  }\n",
       "  th {\n",
       "    text-align: left;\n",
       "  }\n",
       "</style><div class='table-result-container'><table class='table-result'><thead style='background-color: white'><tr></tr></thead><tbody></tbody></table></div>"
      ]
     },
     "metadata": {
      "application/vnd.databricks.v1+output": {
       "addedWidgets": {},
       "aggData": [],
       "aggError": "",
       "aggOverflow": false,
       "aggSchema": [],
       "aggSeriesLimitReached": false,
       "aggType": "",
       "arguments": {},
       "columnCustomDisplayInfos": {},
       "data": [],
       "datasetInfos": [],
       "dbfsResultPath": null,
       "isJsonSchema": true,
       "metadata": {},
       "overflow": false,
       "plotOptions": {
        "customPlotOptions": {},
        "displayType": "table",
        "pivotAggregation": null,
        "pivotColumns": null,
        "xColumns": null,
        "yColumns": null
       },
       "removedWidgets": [],
       "schema": [],
       "type": "table"
      }
     },
     "output_type": "display_data"
    }
   ],
   "source": [
    "%sql\n",
    "-- Creamos las tablas input\n",
    "--Productos\n",
    "DROP TABLE IF EXISTS proyectofinal.productos_delta;\n",
    "CREATE OR REPLACE TABLE proyectofinal.productos_delta\n",
    "(\n",
    "    id_producto STRING,\n",
    "    nombre_producto STRING,\n",
    "    categoria STRING,\n",
    "    precio STRING,\n",
    "    cantidad_stock STRING\n",
    ")\n",
    "USING DELTA\n",
    "LOCATION 'dbfs:/DATALAKE-PROYECTOFINAL/silver/data/PRODUCTOS_DELTA';"
   ]
  },
  {
   "cell_type": "code",
   "execution_count": 0,
   "metadata": {
    "application/vnd.databricks.v1+cell": {
     "cellMetadata": {
      "byteLimit": 2048000,
      "rowLimit": 10000
     },
     "inputWidgets": {},
     "nuid": "04141954-52f6-4ace-b1d6-3318172e8855",
     "showTitle": false,
     "tableResultSettingsMap": {},
     "title": ""
    }
   },
   "outputs": [
    {
     "output_type": "stream",
     "name": "stdout",
     "output_type": "stream",
     "text": [
      "root\n |-- id_venta: string (nullable = true)\n |-- id_cliente: string (nullable = true)\n |-- id_producto: string (nullable = true)\n |-- fecha_venta: string (nullable = true)\n |-- cantidad_vendida: string (nullable = true)\n |-- total_venta: string (nullable = true)\n\n"
     ]
    }
   ],
   "source": [
    "ventas_df.printSchema()"
   ]
  },
  {
   "cell_type": "code",
   "execution_count": 0,
   "metadata": {
    "application/vnd.databricks.v1+cell": {
     "cellMetadata": {
      "byteLimit": 2048000,
      "rowLimit": 10000
     },
     "inputWidgets": {},
     "nuid": "2e0eaf91-4538-4c5e-bb5e-7752e8c5aff6",
     "showTitle": false,
     "tableResultSettingsMap": {},
     "title": ""
    }
   },
   "outputs": [
    {
     "output_type": "stream",
     "name": "stdout",
     "output_type": "stream",
     "text": [
      "Out[22]: True"
     ]
    }
   ],
   "source": [
    "dbutils.fs.rm(\"dbfs:/DATALAKE-PROYECTOFINAL/silver/data/VENTAS_DELTA\", recurse=True)"
   ]
  },
  {
   "cell_type": "code",
   "execution_count": 0,
   "metadata": {
    "application/vnd.databricks.v1+cell": {
     "cellMetadata": {
      "byteLimit": 2048000,
      "implicitDf": true,
      "rowLimit": 10000
     },
     "inputWidgets": {},
     "nuid": "78fdc4f2-36da-4188-9608-36eae9d04059",
     "showTitle": false,
     "tableResultSettingsMap": {},
     "title": ""
    }
   },
   "outputs": [
    {
     "output_type": "display_data",
     "data": {
      "text/html": [
       "<style scoped>\n",
       "  .table-result-container {\n",
       "    max-height: 300px;\n",
       "    overflow: auto;\n",
       "  }\n",
       "  table, th, td {\n",
       "    border: 1px solid black;\n",
       "    border-collapse: collapse;\n",
       "  }\n",
       "  th, td {\n",
       "    padding: 5px;\n",
       "  }\n",
       "  th {\n",
       "    text-align: left;\n",
       "  }\n",
       "</style><div class='table-result-container'><table class='table-result'><thead style='background-color: white'><tr></tr></thead><tbody></tbody></table></div>"
      ]
     },
     "metadata": {
      "application/vnd.databricks.v1+output": {
       "addedWidgets": {},
       "aggData": [],
       "aggError": "",
       "aggOverflow": false,
       "aggSchema": [],
       "aggSeriesLimitReached": false,
       "aggType": "",
       "arguments": {},
       "columnCustomDisplayInfos": {},
       "data": [],
       "datasetInfos": [],
       "dbfsResultPath": null,
       "isJsonSchema": true,
       "metadata": {},
       "overflow": false,
       "plotOptions": {
        "customPlotOptions": {},
        "displayType": "table",
        "pivotAggregation": null,
        "pivotColumns": null,
        "xColumns": null,
        "yColumns": null
       },
       "removedWidgets": [],
       "schema": [],
       "type": "table"
      }
     },
     "output_type": "display_data"
    }
   ],
   "source": [
    "%sql\n",
    "-- Creamos las tablas input\n",
    "--Ventas\n",
    "DROP TABLE IF EXISTS proyectofinal.ventas_delta;\n",
    "CREATE OR REPLACE TABLE proyectofinal.ventas_delta\n",
    "(\n",
    "    id_venta STRING,\n",
    "    id_cliente STRING,\n",
    "    id_producto STRING,\n",
    "    fecha_venta STRING,\n",
    "    cantidad_vendida STRING,\n",
    "    total_venta STRING\n",
    ")\n",
    "USING DELTA\n",
    "LOCATION 'dbfs:/DATALAKE-PROYECTOFINAL/silver/data/VENTAS_DELTA';"
   ]
  },
  {
   "cell_type": "code",
   "execution_count": 0,
   "metadata": {
    "application/vnd.databricks.v1+cell": {
     "cellMetadata": {
      "byteLimit": 2048000,
      "implicitDf": true,
      "rowLimit": 10000
     },
     "inputWidgets": {},
     "nuid": "6742983d-23a2-48e0-be81-13559465f06c",
     "showTitle": false,
     "tableResultSettingsMap": {},
     "title": ""
    }
   },
   "outputs": [
    {
     "output_type": "display_data",
     "data": {
      "text/html": [
       "<style scoped>\n",
       "  .table-result-container {\n",
       "    max-height: 300px;\n",
       "    overflow: auto;\n",
       "  }\n",
       "  table, th, td {\n",
       "    border: 1px solid black;\n",
       "    border-collapse: collapse;\n",
       "  }\n",
       "  th, td {\n",
       "    padding: 5px;\n",
       "  }\n",
       "  th {\n",
       "    text-align: left;\n",
       "  }\n",
       "</style><div class='table-result-container'><table class='table-result'><thead style='background-color: white'><tr><th>database</th><th>tableName</th><th>isTemporary</th></tr></thead><tbody><tr><td>proyectofinal</td><td>clientes_delta</td><td>false</td></tr><tr><td>proyectofinal</td><td>productos_delta</td><td>false</td></tr><tr><td>proyectofinal</td><td>ventas_delta</td><td>false</td></tr></tbody></table></div>"
      ]
     },
     "metadata": {
      "application/vnd.databricks.v1+output": {
       "addedWidgets": {},
       "aggData": [],
       "aggError": "",
       "aggOverflow": false,
       "aggSchema": [],
       "aggSeriesLimitReached": false,
       "aggType": "",
       "arguments": {},
       "columnCustomDisplayInfos": {},
       "data": [
        [
         "proyectofinal",
         "clientes_delta",
         false
        ],
        [
         "proyectofinal",
         "productos_delta",
         false
        ],
        [
         "proyectofinal",
         "ventas_delta",
         false
        ]
       ],
       "datasetInfos": [],
       "dbfsResultPath": null,
       "isJsonSchema": true,
       "metadata": {},
       "overflow": false,
       "plotOptions": {
        "customPlotOptions": {},
        "displayType": "table",
        "pivotAggregation": null,
        "pivotColumns": null,
        "xColumns": null,
        "yColumns": null
       },
       "removedWidgets": [],
       "schema": [
        {
         "metadata": "{}",
         "name": "database",
         "type": "\"string\""
        },
        {
         "metadata": "{}",
         "name": "tableName",
         "type": "\"string\""
        },
        {
         "metadata": "{}",
         "name": "isTemporary",
         "type": "\"boolean\""
        }
       ],
       "type": "table"
      }
     },
     "output_type": "display_data"
    }
   ],
   "source": [
    "%sql\n",
    "--verificamos si se creo correctamente\n",
    "SHOW TABLES IN proyectofinal;\n"
   ]
  },
  {
   "cell_type": "code",
   "execution_count": 0,
   "metadata": {
    "application/vnd.databricks.v1+cell": {
     "cellMetadata": {
      "byteLimit": 2048000,
      "rowLimit": 10000
     },
     "inputWidgets": {},
     "nuid": "ddaf6b4a-a412-465e-996f-3c4a4ccf22f5",
     "showTitle": false,
     "tableResultSettingsMap": {},
     "title": ""
    }
   },
   "outputs": [],
   "source": [
    "#Escritura en las tablas delta\n",
    "clientes_df.write.mode(\"overwrite\").saveAsTable(\"proyectofinal.clientes_delta\")\n",
    "productos_df.write.mode(\"overwrite\").saveAsTable(\"proyectofinal.productos_delta\")\n",
    "ventas_df.write.mode(\"overwrite\").saveAsTable(\"proyectofinal.ventas_delta\")"
   ]
  },
  {
   "cell_type": "code",
   "execution_count": 0,
   "metadata": {
    "application/vnd.databricks.v1+cell": {
     "cellMetadata": {
      "byteLimit": 2048000,
      "rowLimit": 10000
     },
     "inputWidgets": {},
     "nuid": "121cd396-68bb-47f8-8afb-f3f7cb891cf2",
     "showTitle": false,
     "tableResultSettingsMap": {},
     "title": ""
    }
   },
   "outputs": [
    {
     "output_type": "stream",
     "name": "stdout",
     "output_type": "stream",
     "text": [
      "+----------+-------------+--------------------+--------+---------+\n|id_cliente|       nombre|              correo|  ciudad| telefono|\n+----------+-------------+--------------------+--------+---------+\n|         1| Carlos Perez|carlos.perez@gmai...|    Lima|987654321|\n|         2|     Ana Ruiz|ana.ruiz@hotmail.com|Huancayo|987654322|\n|         3|   Juan Gomez|juan.gomez@yahoo.com|Trujillo|987654323|\n|         4|Lucia Sanchez|lucia.sanchez@gma...|Chiclayo|987654324|\n|         5| Pedro Torres|pedro.torres@hotm...|Arequipa|987654325|\n+----------+-------------+--------------------+--------+---------+\nonly showing top 5 rows\n\n+-----------+-----------------+-----------+-------+--------------+\n|id_producto|  nombre_producto|  categoria| precio|cantidad_stock|\n+-----------+-----------------+-----------+-------+--------------+\n|          1|       Laptop Pro|Electronica|1200.50|            50|\n|          2|     Smartphone X|Electronica| 800.00|           150|\n|          3|     Televisor HD|Electronica| 550.00|            30|\n|          4|Zapatillas Runner|   Deportes|  75.00|           200|\n|          5|Bicicleta Montana|   Deportes| 450.00|            20|\n+-----------+-----------------+-----------+-------+--------------+\nonly showing top 5 rows\n\n+--------+----------+-----------+-----------+----------------+-----------+\n|id_venta|id_cliente|id_producto|fecha_venta|cantidad_vendida|total_venta|\n+--------+----------+-----------+-----------+----------------+-----------+\n|       1|         1|          1| 2023-01-01|               2|    2401.00|\n|       2|         1|          2| 2023-01-02|               1|     800.00|\n|       3|         2|          3| 2023-01-03|               5|    2750.00|\n|       4|         3|          4| 2023-01-04|               3|     225.00|\n|       5|         3|          7| 2023-01-05|               1|      85.00|\n+--------+----------+-----------+-----------+----------------+-----------+\nonly showing top 5 rows\n\n"
     ]
    }
   ],
   "source": [
    "df_clientes = spark.table(\"proyectofinal.clientes_delta\")\n",
    "df_productos = spark.table(\"proyectofinal.productos_delta\")\n",
    "df_ventas = spark.table(\"proyectofinal.ventas_delta\")\n",
    "\n",
    "df_clientes.show(5)\n",
    "df_productos.show(5)\n",
    "df_ventas.show(5)\n"
   ]
  },
  {
   "cell_type": "markdown",
   "metadata": {
    "application/vnd.databricks.v1+cell": {
     "cellMetadata": {
      "byteLimit": 2048000,
      "rowLimit": 10000
     },
     "inputWidgets": {},
     "nuid": "0b7219c8-1cfd-48d4-b04d-f4c8e5b12d9b",
     "showTitle": false,
     "tableResultSettingsMap": {},
     "title": ""
    }
   },
   "source": [
    "## 3. Transformaciones Capa Golden\n",
    "\n",
    "Creamos Tablas para llenar con la logica final pedida"
   ]
  },
  {
   "cell_type": "markdown",
   "metadata": {
    "application/vnd.databricks.v1+cell": {
     "cellMetadata": {
      "byteLimit": 2048000,
      "rowLimit": 10000
     },
     "inputWidgets": {},
     "nuid": "4219489e-332b-48d9-b44f-9cea263182c6",
     "showTitle": false,
     "tableResultSettingsMap": {},
     "title": ""
    }
   },
   "source": [
    "1. Ventas Totales por Producto\n",
    "2. Productos y sus Precios con Ventas Realizadas\n",
    "3. Clientes con la Mayor Cantidad de Compras\n",
    "4. Productos con Baja Venta"
   ]
  },
  {
   "cell_type": "code",
   "execution_count": 0,
   "metadata": {
    "application/vnd.databricks.v1+cell": {
     "cellMetadata": {
      "byteLimit": 2048000,
      "implicitDf": true,
      "rowLimit": 10000
     },
     "inputWidgets": {},
     "nuid": "6f2d7171-ce63-4ba6-a590-598ec7b09def",
     "showTitle": false,
     "tableResultSettingsMap": {},
     "title": ""
    }
   },
   "outputs": [
    {
     "output_type": "display_data",
     "data": {
      "text/html": [
       "<style scoped>\n",
       "  .table-result-container {\n",
       "    max-height: 300px;\n",
       "    overflow: auto;\n",
       "  }\n",
       "  table, th, td {\n",
       "    border: 1px solid black;\n",
       "    border-collapse: collapse;\n",
       "  }\n",
       "  th, td {\n",
       "    padding: 5px;\n",
       "  }\n",
       "  th {\n",
       "    text-align: left;\n",
       "  }\n",
       "</style><div class='table-result-container'><table class='table-result'><thead style='background-color: white'><tr></tr></thead><tbody></tbody></table></div>"
      ]
     },
     "metadata": {
      "application/vnd.databricks.v1+output": {
       "addedWidgets": {},
       "aggData": [],
       "aggError": "",
       "aggOverflow": false,
       "aggSchema": [],
       "aggSeriesLimitReached": false,
       "aggType": "",
       "arguments": {},
       "columnCustomDisplayInfos": {},
       "data": [],
       "datasetInfos": [],
       "dbfsResultPath": null,
       "isJsonSchema": true,
       "metadata": {},
       "overflow": false,
       "plotOptions": {
        "customPlotOptions": {},
        "displayType": "table",
        "pivotAggregation": null,
        "pivotColumns": null,
        "xColumns": null,
        "yColumns": null
       },
       "removedWidgets": [],
       "schema": [],
       "type": "table"
      }
     },
     "output_type": "display_data"
    }
   ],
   "source": [
    "%sql\n",
    "--Tabla 1 :Ventas Totales por Producto\n",
    "CREATE or REPLACE TABLE proyectofinal.ventas_totales_por_producto\n",
    "(\n",
    "  nombre_producto STRING,\n",
    "  categoria STRING,\n",
    "  total_cantidad_vendida BIGINT\n",
    ")\n",
    "USING DELTA\n",
    "LOCATION 'dbfs:/DATALAKE-PROYECTOFINAL/golden/data/VENTAS_TOTALES_POR_PRODUCTO'\n"
   ]
  },
  {
   "cell_type": "code",
   "execution_count": 0,
   "metadata": {
    "application/vnd.databricks.v1+cell": {
     "cellMetadata": {
      "byteLimit": 2048000,
      "implicitDf": true,
      "rowLimit": 10000
     },
     "inputWidgets": {},
     "nuid": "0b530fd3-5028-400a-b82d-5dfb8d72968c",
     "showTitle": false,
     "tableResultSettingsMap": {},
     "title": ""
    }
   },
   "outputs": [
    {
     "output_type": "display_data",
     "data": {
      "text/html": [
       "<style scoped>\n",
       "  .table-result-container {\n",
       "    max-height: 300px;\n",
       "    overflow: auto;\n",
       "  }\n",
       "  table, th, td {\n",
       "    border: 1px solid black;\n",
       "    border-collapse: collapse;\n",
       "  }\n",
       "  th, td {\n",
       "    padding: 5px;\n",
       "  }\n",
       "  th {\n",
       "    text-align: left;\n",
       "  }\n",
       "</style><div class='table-result-container'><table class='table-result'><thead style='background-color: white'><tr></tr></thead><tbody></tbody></table></div>"
      ]
     },
     "metadata": {
      "application/vnd.databricks.v1+output": {
       "addedWidgets": {},
       "aggData": [],
       "aggError": "",
       "aggOverflow": false,
       "aggSchema": [],
       "aggSeriesLimitReached": false,
       "aggType": "",
       "arguments": {},
       "columnCustomDisplayInfos": {},
       "data": [],
       "datasetInfos": [],
       "dbfsResultPath": null,
       "isJsonSchema": true,
       "metadata": {},
       "overflow": false,
       "plotOptions": {
        "customPlotOptions": {},
        "displayType": "table",
        "pivotAggregation": null,
        "pivotColumns": null,
        "xColumns": null,
        "yColumns": null
       },
       "removedWidgets": [],
       "schema": [],
       "type": "table"
      }
     },
     "output_type": "display_data"
    }
   ],
   "source": [
    "%sql\n",
    "----Tabla 2: Productos y sus Precios con Ventas Realizadas\n",
    "CREATE or REPLACE TABLE proyectofinal.productos_precios_ventas\n",
    "(\n",
    "  nombre_producto STRING,\n",
    "  precio_producto decimal(20,2),\n",
    "  cantidad_vendida BIGINT,\n",
    "  ingresos_totales decimal(20,2)\n",
    ")\n",
    "USING DELTA\n",
    "LOCATION 'dbfs:/DATALAKE-PROYECTOFINAL/golden/data/VENTAS_PRECIOS_VENTAS'\n"
   ]
  },
  {
   "cell_type": "code",
   "execution_count": 0,
   "metadata": {
    "application/vnd.databricks.v1+cell": {
     "cellMetadata": {
      "byteLimit": 2048000,
      "implicitDf": true,
      "rowLimit": 10000
     },
     "inputWidgets": {},
     "nuid": "15eae294-d945-4df1-bb23-890737c8e123",
     "showTitle": false,
     "tableResultSettingsMap": {},
     "title": ""
    }
   },
   "outputs": [
    {
     "output_type": "display_data",
     "data": {
      "text/html": [
       "<style scoped>\n",
       "  .table-result-container {\n",
       "    max-height: 300px;\n",
       "    overflow: auto;\n",
       "  }\n",
       "  table, th, td {\n",
       "    border: 1px solid black;\n",
       "    border-collapse: collapse;\n",
       "  }\n",
       "  th, td {\n",
       "    padding: 5px;\n",
       "  }\n",
       "  th {\n",
       "    text-align: left;\n",
       "  }\n",
       "</style><div class='table-result-container'><table class='table-result'><thead style='background-color: white'><tr></tr></thead><tbody></tbody></table></div>"
      ]
     },
     "metadata": {
      "application/vnd.databricks.v1+output": {
       "addedWidgets": {},
       "aggData": [],
       "aggError": "",
       "aggOverflow": false,
       "aggSchema": [],
       "aggSeriesLimitReached": false,
       "aggType": "",
       "arguments": {},
       "columnCustomDisplayInfos": {},
       "data": [],
       "datasetInfos": [],
       "dbfsResultPath": null,
       "isJsonSchema": true,
       "metadata": {},
       "overflow": false,
       "plotOptions": {
        "customPlotOptions": {},
        "displayType": "table",
        "pivotAggregation": null,
        "pivotColumns": null,
        "xColumns": null,
        "yColumns": null
       },
       "removedWidgets": [],
       "schema": [],
       "type": "table"
      }
     },
     "output_type": "display_data"
    }
   ],
   "source": [
    "%sql\n",
    "-- Tabla 3:  Clientes con la Mayor Cantidad de Compras\n",
    "CREATE or REPLACE TABLE proyectofinal.clientes_mayor_compras\n",
    "(\n",
    "  nombre STRING,\n",
    "  cantidad_compras BIGINT\n",
    ")\n",
    "USING DELTA\n",
    "LOCATION 'dbfs:/DATALAKE-PROYECTOFINAL/golden/data/CLIENTES_MAYOR_COMPRAS'\n"
   ]
  },
  {
   "cell_type": "code",
   "execution_count": 0,
   "metadata": {
    "application/vnd.databricks.v1+cell": {
     "cellMetadata": {
      "byteLimit": 2048000,
      "implicitDf": true,
      "rowLimit": 10000
     },
     "inputWidgets": {},
     "nuid": "1a3a231a-6f82-48c1-8c85-05f618167038",
     "showTitle": false,
     "tableResultSettingsMap": {},
     "title": ""
    }
   },
   "outputs": [
    {
     "output_type": "display_data",
     "data": {
      "text/html": [
       "<style scoped>\n",
       "  .table-result-container {\n",
       "    max-height: 300px;\n",
       "    overflow: auto;\n",
       "  }\n",
       "  table, th, td {\n",
       "    border: 1px solid black;\n",
       "    border-collapse: collapse;\n",
       "  }\n",
       "  th, td {\n",
       "    padding: 5px;\n",
       "  }\n",
       "  th {\n",
       "    text-align: left;\n",
       "  }\n",
       "</style><div class='table-result-container'><table class='table-result'><thead style='background-color: white'><tr></tr></thead><tbody></tbody></table></div>"
      ]
     },
     "metadata": {
      "application/vnd.databricks.v1+output": {
       "addedWidgets": {},
       "aggData": [],
       "aggError": "",
       "aggOverflow": false,
       "aggSchema": [],
       "aggSeriesLimitReached": false,
       "aggType": "",
       "arguments": {},
       "columnCustomDisplayInfos": {},
       "data": [],
       "datasetInfos": [],
       "dbfsResultPath": null,
       "isJsonSchema": true,
       "metadata": {},
       "overflow": false,
       "plotOptions": {
        "customPlotOptions": {},
        "displayType": "table",
        "pivotAggregation": null,
        "pivotColumns": null,
        "xColumns": null,
        "yColumns": null
       },
       "removedWidgets": [],
       "schema": [],
       "type": "table"
      }
     },
     "output_type": "display_data"
    }
   ],
   "source": [
    "%sql\n",
    "-- Tabla 4:  Productos con Baja Venta\n",
    "CREATE or REPLACE TABLE proyectofinal.productos_baja_venta\n",
    "(\n",
    "  nombre_producto STRING,\n",
    "  categoria STRING,\n",
    "  cantidad_vendida BIGINT\n",
    ")\n",
    "USING DELTA\n",
    "LOCATION 'dbfs:/DATALAKE-PROYECTOFINAL/golden/data/PRODUCTOS_BAJA_VENTA'\n"
   ]
  },
  {
   "cell_type": "markdown",
   "metadata": {
    "application/vnd.databricks.v1+cell": {
     "cellMetadata": {
      "byteLimit": 2048000,
      "rowLimit": 10000
     },
     "inputWidgets": {},
     "nuid": "356c048b-6605-40e2-8916-8969ea1c4377",
     "showTitle": false,
     "tableResultSettingsMap": {},
     "title": ""
    }
   },
   "source": [
    "## 1. Ventas Totales por Producto\n",
    "\n",
    "### Enunciado:\n",
    "Se requiere generar un reporte que detalle el total de ventas realizadas para cada producto. El reporte debe incluir los siguientes campos:\n",
    "\n",
    "- **Nombre del Producto**  \n",
    "- **Categoría**  \n",
    "- **Total de Cantidad Vendida**  \n",
    "\n"
   ]
  },
  {
   "cell_type": "code",
   "execution_count": 0,
   "metadata": {
    "application/vnd.databricks.v1+cell": {
     "cellMetadata": {
      "byteLimit": 2048000,
      "rowLimit": 10000
     },
     "inputWidgets": {},
     "nuid": "4f8608e9-4464-4939-bb8b-3f4d7b911b30",
     "showTitle": false,
     "tableResultSettingsMap": {},
     "title": ""
    }
   },
   "outputs": [],
   "source": [
    "from pyspark.sql.functions import  col ,sum ,count"
   ]
  },
  {
   "cell_type": "code",
   "execution_count": 0,
   "metadata": {
    "application/vnd.databricks.v1+cell": {
     "cellMetadata": {
      "byteLimit": 2048000,
      "rowLimit": 10000
     },
     "inputWidgets": {},
     "nuid": "7ec86db7-189b-4022-9d47-5a750a8b2c2f",
     "showTitle": false,
     "tableResultSettingsMap": {},
     "title": ""
    }
   },
   "outputs": [],
   "source": [
    "ventas_totales_por_producto = df_ventas.join(df_productos,df_ventas[\"id_producto\"]==df_productos[\"id_producto\"])\\\n",
    "                                .groupBy('nombre_producto','categoria')\\\n",
    "                                .agg(sum(col(\"cantidad_vendida\").cast(\"int\")).alias(\"total_cantidad_vendida\"))"
   ]
  },
  {
   "cell_type": "code",
   "execution_count": 0,
   "metadata": {
    "application/vnd.databricks.v1+cell": {
     "cellMetadata": {
      "byteLimit": 2048000,
      "rowLimit": 10000
     },
     "inputWidgets": {},
     "nuid": "e3681507-d4a2-498d-b695-73bb2e32a178",
     "showTitle": false,
     "tableResultSettingsMap": {},
     "title": ""
    }
   },
   "outputs": [
    {
     "output_type": "display_data",
     "data": {
      "text/html": [
       "<style scoped>\n",
       "  .table-result-container {\n",
       "    max-height: 300px;\n",
       "    overflow: auto;\n",
       "  }\n",
       "  table, th, td {\n",
       "    border: 1px solid black;\n",
       "    border-collapse: collapse;\n",
       "  }\n",
       "  th, td {\n",
       "    padding: 5px;\n",
       "  }\n",
       "  th {\n",
       "    text-align: left;\n",
       "  }\n",
       "</style><div class='table-result-container'><table class='table-result'><thead style='background-color: white'><tr><th>nombre_producto</th><th>categoria</th><th>total_cantidad_vendida</th></tr></thead><tbody><tr><td>Zapatillas Runner</td><td>Deportes</td><td>5</td></tr><tr><td>Camara Reflex</td><td>Electronica</td><td>8</td></tr><tr><td>Monitor LED</td><td>Electronica</td><td>1</td></tr><tr><td>Tablet 10</td><td>Electronica</td><td>3</td></tr><tr><td>Zapatos Elegantes</td><td>Ropa</td><td>1</td></tr><tr><td>Smartphone X</td><td>Electronica</td><td>2</td></tr><tr><td>Teclado Mecanico</td><td>Electronica</td><td>2</td></tr><tr><td>Impresora Multifuncion</td><td>Oficina</td><td>5</td></tr><tr><td>Laptop Pro</td><td>Electronica</td><td>5</td></tr><tr><td>Sombrero de Paja</td><td>Accesorios</td><td>3</td></tr><tr><td>Silla de Oficina</td><td>Oficina</td><td>7</td></tr><tr><td>Camara de Seguridad</td><td>Electronica</td><td>4</td></tr><tr><td>Control Remoto Universal</td><td>Electronica</td><td>3</td></tr><tr><td>Cartera de Cuero</td><td>Accesorios</td><td>4</td></tr><tr><td>Pantalon Casual</td><td>Ropa</td><td>5</td></tr><tr><td>Cuaderno Premium</td><td>Oficina</td><td>5</td></tr><tr><td>Lentes de Sol</td><td>Accesorios</td><td>10</td></tr><tr><td>Camiseta Basica</td><td>Ropa</td><td>9</td></tr><tr><td>Boligrafo Pack</td><td>Oficina</td><td>6</td></tr><tr><td>Reloj Deportivo</td><td>Deportes</td><td>8</td></tr><tr><td>Bicicleta Montana</td><td>Deportes</td><td>2</td></tr><tr><td>Cargador Rapido</td><td>Electronica</td><td>6</td></tr><tr><td>Escritorio Compacto</td><td>Oficina</td><td>9</td></tr><tr><td>Mochila Urbana</td><td>Accesorios</td><td>4</td></tr><tr><td>Parlantes Portatiles</td><td>Electronica</td><td>9</td></tr><tr><td>Televisor HD</td><td>Electronica</td><td>11</td></tr><tr><td>Auriculares Bluetooth</td><td>Electronica</td><td>5</td></tr><tr><td>Mousepad XL</td><td>Electronica</td><td>2</td></tr><tr><td>Chaqueta de Invierno</td><td>Ropa</td><td>6</td></tr><tr><td>Mouse Gamer</td><td>Electronica</td><td>4</td></tr></tbody></table></div>"
      ]
     },
     "metadata": {
      "application/vnd.databricks.v1+output": {
       "addedWidgets": {},
       "aggData": [],
       "aggError": "",
       "aggOverflow": false,
       "aggSchema": [],
       "aggSeriesLimitReached": false,
       "aggType": "",
       "arguments": {},
       "columnCustomDisplayInfos": {},
       "data": [
        [
         "Zapatillas Runner",
         "Deportes",
         5
        ],
        [
         "Camara Reflex",
         "Electronica",
         8
        ],
        [
         "Monitor LED",
         "Electronica",
         1
        ],
        [
         "Tablet 10",
         "Electronica",
         3
        ],
        [
         "Zapatos Elegantes",
         "Ropa",
         1
        ],
        [
         "Smartphone X",
         "Electronica",
         2
        ],
        [
         "Teclado Mecanico",
         "Electronica",
         2
        ],
        [
         "Impresora Multifuncion",
         "Oficina",
         5
        ],
        [
         "Laptop Pro",
         "Electronica",
         5
        ],
        [
         "Sombrero de Paja",
         "Accesorios",
         3
        ],
        [
         "Silla de Oficina",
         "Oficina",
         7
        ],
        [
         "Camara de Seguridad",
         "Electronica",
         4
        ],
        [
         "Control Remoto Universal",
         "Electronica",
         3
        ],
        [
         "Cartera de Cuero",
         "Accesorios",
         4
        ],
        [
         "Pantalon Casual",
         "Ropa",
         5
        ],
        [
         "Cuaderno Premium",
         "Oficina",
         5
        ],
        [
         "Lentes de Sol",
         "Accesorios",
         10
        ],
        [
         "Camiseta Basica",
         "Ropa",
         9
        ],
        [
         "Boligrafo Pack",
         "Oficina",
         6
        ],
        [
         "Reloj Deportivo",
         "Deportes",
         8
        ],
        [
         "Bicicleta Montana",
         "Deportes",
         2
        ],
        [
         "Cargador Rapido",
         "Electronica",
         6
        ],
        [
         "Escritorio Compacto",
         "Oficina",
         9
        ],
        [
         "Mochila Urbana",
         "Accesorios",
         4
        ],
        [
         "Parlantes Portatiles",
         "Electronica",
         9
        ],
        [
         "Televisor HD",
         "Electronica",
         11
        ],
        [
         "Auriculares Bluetooth",
         "Electronica",
         5
        ],
        [
         "Mousepad XL",
         "Electronica",
         2
        ],
        [
         "Chaqueta de Invierno",
         "Ropa",
         6
        ],
        [
         "Mouse Gamer",
         "Electronica",
         4
        ]
       ],
       "datasetInfos": [],
       "dbfsResultPath": null,
       "isJsonSchema": true,
       "metadata": {},
       "overflow": false,
       "plotOptions": {
        "customPlotOptions": {},
        "displayType": "table",
        "pivotAggregation": null,
        "pivotColumns": null,
        "xColumns": null,
        "yColumns": null
       },
       "removedWidgets": [],
       "schema": [
        {
         "metadata": "{}",
         "name": "nombre_producto",
         "type": "\"string\""
        },
        {
         "metadata": "{}",
         "name": "categoria",
         "type": "\"string\""
        },
        {
         "metadata": "{}",
         "name": "total_cantidad_vendida",
         "type": "\"long\""
        }
       ],
       "type": "table"
      }
     },
     "output_type": "display_data"
    }
   ],
   "source": [
    "display(ventas_totales_por_producto)"
   ]
  },
  {
   "cell_type": "markdown",
   "metadata": {
    "application/vnd.databricks.v1+cell": {
     "cellMetadata": {},
     "inputWidgets": {},
     "nuid": "fc1dbd9d-b71f-45a7-b8e0-f74548183fe5",
     "showTitle": false,
     "tableResultSettingsMap": {},
     "title": ""
    }
   },
   "source": [
    "## 2. Productos y sus Precios con Ventas Realizadas\n",
    "\n",
    "### Enunciado:\n",
    "Se requiere un reporte que detalle los productos junto con su precio, la cantidad vendida y los ingresos totales generados por cada producto. El reporte debe incluir los siguientes campos:\n",
    "\n",
    "- **Nombre del Producto**  \n",
    "- **Precio del Producto**  \n",
    "- **Cantidad Vendida**  \n",
    "- **Total de Ingresos Generados** (cantidad vendida * precio)"
   ]
  },
  {
   "cell_type": "code",
   "execution_count": 0,
   "metadata": {
    "application/vnd.databricks.v1+cell": {
     "cellMetadata": {
      "byteLimit": 2048000,
      "rowLimit": 10000
     },
     "inputWidgets": {},
     "nuid": "291e7aee-d89e-4a8d-bcc9-9ab0787489af",
     "showTitle": false,
     "tableResultSettingsMap": {},
     "title": ""
    }
   },
   "outputs": [],
   "source": [
    "productos_precios_ventas = df_productos.join(df_ventas, df_productos[\"id_producto\"] == df_ventas[\"id_producto\"])\\\n",
    "                            .groupBy(\"Nombre_producto\", \"precio\")\\\n",
    "                            .agg(sum(col(\"cantidad_vendida\").cast(\"int\")).alias(\"cantidad_vendida\"))\\\n",
    "                            .withColumn(\"total_ingresos\", col(\"precio\").cast(\"decimal(10,2)\") * col(\"cantidad_vendida\"))"
   ]
  },
  {
   "cell_type": "code",
   "execution_count": 0,
   "metadata": {
    "application/vnd.databricks.v1+cell": {
     "cellMetadata": {
      "byteLimit": 2048000,
      "rowLimit": 10000
     },
     "inputWidgets": {},
     "nuid": "a3a4c64e-91cb-4e41-9b68-ae78d4dc3277",
     "showTitle": false,
     "tableResultSettingsMap": {},
     "title": ""
    }
   },
   "outputs": [
    {
     "output_type": "display_data",
     "data": {
      "text/html": [
       "<style scoped>\n",
       "  .table-result-container {\n",
       "    max-height: 300px;\n",
       "    overflow: auto;\n",
       "  }\n",
       "  table, th, td {\n",
       "    border: 1px solid black;\n",
       "    border-collapse: collapse;\n",
       "  }\n",
       "  th, td {\n",
       "    padding: 5px;\n",
       "  }\n",
       "  th {\n",
       "    text-align: left;\n",
       "  }\n",
       "</style><div class='table-result-container'><table class='table-result'><thead style='background-color: white'><tr><th>Nombre_producto</th><th>precio</th><th>cantidad_vendida</th><th>total_ingresos</th></tr></thead><tbody><tr><td>Cartera de Cuero</td><td>120.00</td><td>4</td><td>480.00</td></tr><tr><td>Lentes de Sol</td><td>20.00</td><td>10</td><td>200.00</td></tr><tr><td>Camara de Seguridad</td><td>150.00</td><td>4</td><td>600.00</td></tr><tr><td>Zapatillas Runner</td><td>75.00</td><td>5</td><td>375.00</td></tr><tr><td>Mousepad XL</td><td>20.00</td><td>2</td><td>40.00</td></tr><tr><td>Chaqueta de Invierno</td><td>100.00</td><td>6</td><td>600.00</td></tr><tr><td>Silla de Oficina</td><td>150.00</td><td>7</td><td>1050.00</td></tr><tr><td>Impresora Multifuncion</td><td>300.00</td><td>5</td><td>1500.00</td></tr><tr><td>Cargador Rapido</td><td>25.00</td><td>6</td><td>150.00</td></tr><tr><td>Reloj Deportivo</td><td>50.00</td><td>8</td><td>400.00</td></tr><tr><td>Boligrafo Pack</td><td>10.00</td><td>6</td><td>60.00</td></tr><tr><td>Monitor LED</td><td>250.00</td><td>1</td><td>250.00</td></tr><tr><td>Mochila Urbana</td><td>35.00</td><td>4</td><td>140.00</td></tr><tr><td>Bicicleta Montana</td><td>450.00</td><td>2</td><td>900.00</td></tr><tr><td>Parlantes Portatiles</td><td>95.00</td><td>9</td><td>855.00</td></tr><tr><td>Cuaderno Premium</td><td>5.00</td><td>5</td><td>25.00</td></tr><tr><td>Sombrero de Paja</td><td>15.00</td><td>3</td><td>45.00</td></tr><tr><td>Laptop Pro</td><td>1200.50</td><td>5</td><td>6002.50</td></tr><tr><td>Smartphone X</td><td>800.00</td><td>2</td><td>1600.00</td></tr><tr><td>Auriculares Bluetooth</td><td>120.00</td><td>5</td><td>600.00</td></tr><tr><td>Control Remoto Universal</td><td>40.00</td><td>3</td><td>120.00</td></tr><tr><td>Camiseta Basica</td><td>15.00</td><td>9</td><td>135.00</td></tr><tr><td>Pantalon Casual</td><td>30.00</td><td>5</td><td>150.00</td></tr><tr><td>Teclado Mecanico</td><td>85.00</td><td>2</td><td>170.00</td></tr><tr><td>Televisor HD</td><td>550.00</td><td>11</td><td>6050.00</td></tr><tr><td>Escritorio Compacto</td><td>200.00</td><td>9</td><td>1800.00</td></tr><tr><td>Zapatos Elegantes</td><td>75.00</td><td>1</td><td>75.00</td></tr><tr><td>Mouse Gamer</td><td>35.00</td><td>4</td><td>140.00</td></tr><tr><td>Tablet 10</td><td>400.00</td><td>3</td><td>1200.00</td></tr><tr><td>Camara Reflex</td><td>900.00</td><td>8</td><td>7200.00</td></tr></tbody></table></div>"
      ]
     },
     "metadata": {
      "application/vnd.databricks.v1+output": {
       "addedWidgets": {},
       "aggData": [],
       "aggError": "",
       "aggOverflow": false,
       "aggSchema": [],
       "aggSeriesLimitReached": false,
       "aggType": "",
       "arguments": {},
       "columnCustomDisplayInfos": {},
       "data": [
        [
         "Cartera de Cuero",
         "120.00",
         4,
         "480.00"
        ],
        [
         "Lentes de Sol",
         "20.00",
         10,
         "200.00"
        ],
        [
         "Camara de Seguridad",
         "150.00",
         4,
         "600.00"
        ],
        [
         "Zapatillas Runner",
         "75.00",
         5,
         "375.00"
        ],
        [
         "Mousepad XL",
         "20.00",
         2,
         "40.00"
        ],
        [
         "Chaqueta de Invierno",
         "100.00",
         6,
         "600.00"
        ],
        [
         "Silla de Oficina",
         "150.00",
         7,
         "1050.00"
        ],
        [
         "Impresora Multifuncion",
         "300.00",
         5,
         "1500.00"
        ],
        [
         "Cargador Rapido",
         "25.00",
         6,
         "150.00"
        ],
        [
         "Reloj Deportivo",
         "50.00",
         8,
         "400.00"
        ],
        [
         "Boligrafo Pack",
         "10.00",
         6,
         "60.00"
        ],
        [
         "Monitor LED",
         "250.00",
         1,
         "250.00"
        ],
        [
         "Mochila Urbana",
         "35.00",
         4,
         "140.00"
        ],
        [
         "Bicicleta Montana",
         "450.00",
         2,
         "900.00"
        ],
        [
         "Parlantes Portatiles",
         "95.00",
         9,
         "855.00"
        ],
        [
         "Cuaderno Premium",
         "5.00",
         5,
         "25.00"
        ],
        [
         "Sombrero de Paja",
         "15.00",
         3,
         "45.00"
        ],
        [
         "Laptop Pro",
         "1200.50",
         5,
         "6002.50"
        ],
        [
         "Smartphone X",
         "800.00",
         2,
         "1600.00"
        ],
        [
         "Auriculares Bluetooth",
         "120.00",
         5,
         "600.00"
        ],
        [
         "Control Remoto Universal",
         "40.00",
         3,
         "120.00"
        ],
        [
         "Camiseta Basica",
         "15.00",
         9,
         "135.00"
        ],
        [
         "Pantalon Casual",
         "30.00",
         5,
         "150.00"
        ],
        [
         "Teclado Mecanico",
         "85.00",
         2,
         "170.00"
        ],
        [
         "Televisor HD",
         "550.00",
         11,
         "6050.00"
        ],
        [
         "Escritorio Compacto",
         "200.00",
         9,
         "1800.00"
        ],
        [
         "Zapatos Elegantes",
         "75.00",
         1,
         "75.00"
        ],
        [
         "Mouse Gamer",
         "35.00",
         4,
         "140.00"
        ],
        [
         "Tablet 10",
         "400.00",
         3,
         "1200.00"
        ],
        [
         "Camara Reflex",
         "900.00",
         8,
         "7200.00"
        ]
       ],
       "datasetInfos": [],
       "dbfsResultPath": null,
       "isJsonSchema": true,
       "metadata": {},
       "overflow": false,
       "plotOptions": {
        "customPlotOptions": {},
        "displayType": "table",
        "pivotAggregation": null,
        "pivotColumns": null,
        "xColumns": null,
        "yColumns": null
       },
       "removedWidgets": [],
       "schema": [
        {
         "metadata": "{}",
         "name": "Nombre_producto",
         "type": "\"string\""
        },
        {
         "metadata": "{}",
         "name": "precio",
         "type": "\"string\""
        },
        {
         "metadata": "{}",
         "name": "cantidad_vendida",
         "type": "\"long\""
        },
        {
         "metadata": "{}",
         "name": "total_ingresos",
         "type": "\"decimal(31,2)\""
        }
       ],
       "type": "table"
      }
     },
     "output_type": "display_data"
    }
   ],
   "source": [
    "display(productos_precios_ventas)"
   ]
  },
  {
   "cell_type": "markdown",
   "metadata": {
    "application/vnd.databricks.v1+cell": {
     "cellMetadata": {},
     "inputWidgets": {},
     "nuid": "3212215a-efb3-496f-9594-8adcff3ef4a1",
     "showTitle": false,
     "tableResultSettingsMap": {},
     "title": ""
    }
   },
   "source": [
    "## 3. Clientes con la Mayor Cantidad de Compras\n",
    "\n",
    "### Enunciado:\n",
    "Generar un reporte que identifique a los clientes que han realizado el mayor número de compras. El reporte debe incluir los siguientes campos:\n",
    "\n",
    "- **Nombre del Cliente**  \n",
    "- **Cantidad de Compras Realizadas** "
   ]
  },
  {
   "cell_type": "code",
   "execution_count": 0,
   "metadata": {
    "application/vnd.databricks.v1+cell": {
     "cellMetadata": {
      "byteLimit": 2048000,
      "rowLimit": 10000
     },
     "inputWidgets": {},
     "nuid": "cdba0178-8580-49ca-bb90-251850168ec9",
     "showTitle": false,
     "tableResultSettingsMap": {},
     "title": ""
    },
    "jupyter": {
     "outputs_hidden": true
    }
   },
   "outputs": [],
   "source": [
    "clientes_mayor_compras = df_clientes.join(df_ventas, df_clientes['id_cliente'] == df_ventas['id_cliente'])\\\n",
    "                            .groupBy('nombre')\\\n",
    "                            .agg(count('nombre').alias('cantidad_compras'))"
   ]
  },
  {
   "cell_type": "code",
   "execution_count": 0,
   "metadata": {
    "application/vnd.databricks.v1+cell": {
     "cellMetadata": {
      "byteLimit": 2048000,
      "rowLimit": 10000
     },
     "inputWidgets": {},
     "nuid": "d820b829-911c-4dd8-8883-0c183d81510f",
     "showTitle": false,
     "tableResultSettingsMap": {},
     "title": ""
    }
   },
   "outputs": [
    {
     "output_type": "display_data",
     "data": {
      "text/html": [
       "<style scoped>\n",
       "  .table-result-container {\n",
       "    max-height: 300px;\n",
       "    overflow: auto;\n",
       "  }\n",
       "  table, th, td {\n",
       "    border: 1px solid black;\n",
       "    border-collapse: collapse;\n",
       "  }\n",
       "  th, td {\n",
       "    padding: 5px;\n",
       "  }\n",
       "  th {\n",
       "    text-align: left;\n",
       "  }\n",
       "</style><div class='table-result-container'><table class='table-result'><thead style='background-color: white'><tr><th>nombre</th><th>cantidad_compras</th></tr></thead><tbody><tr><td>Diego Vargas</td><td>1</td></tr><tr><td>Santiago Reyes</td><td>1</td></tr><tr><td>Juan Gomez</td><td>3</td></tr><tr><td>Fernando Silva</td><td>2</td></tr><tr><td>Felipe Campos</td><td>2</td></tr><tr><td>Roberto Fernandez</td><td>2</td></tr><tr><td>Emilio Cortes</td><td>1</td></tr><tr><td>Paola Gutierrez</td><td>1</td></tr><tr><td>Jorge Aguilar</td><td>1</td></tr><tr><td>Oscar Ramos</td><td>2</td></tr><tr><td>Carla Rojas</td><td>3</td></tr><tr><td>Clara Mendoza</td><td>2</td></tr><tr><td>Cristina Pena</td><td>1</td></tr><tr><td>Rafael Montalvo</td><td>1</td></tr><tr><td>Ana Ruiz</td><td>2</td></tr><tr><td>Andrea Paredes</td><td>1</td></tr><tr><td>Lucia Sanchez</td><td>2</td></tr><tr><td>Carlos Perez</td><td>3</td></tr><tr><td>Maria Lopez</td><td>2</td></tr><tr><td>Monica Quintana</td><td>2</td></tr><tr><td>Valeria Salazar</td><td>1</td></tr><tr><td>Sofia Jimenez</td><td>2</td></tr><tr><td>Daniela Vega</td><td>1</td></tr><tr><td>Pedro Torres</td><td>3</td></tr><tr><td>Diana Herrera</td><td>1</td></tr><tr><td>Elena Castro</td><td>1</td></tr><tr><td>Luis Castillo</td><td>2</td></tr><tr><td>Martin Diaz</td><td>2</td></tr><tr><td>Lucas Navarro</td><td>1</td></tr><tr><td>Laura Chavez</td><td>1</td></tr></tbody></table></div>"
      ]
     },
     "metadata": {
      "application/vnd.databricks.v1+output": {
       "addedWidgets": {},
       "aggData": [],
       "aggError": "",
       "aggOverflow": false,
       "aggSchema": [],
       "aggSeriesLimitReached": false,
       "aggType": "",
       "arguments": {},
       "columnCustomDisplayInfos": {},
       "data": [
        [
         "Diego Vargas",
         1
        ],
        [
         "Santiago Reyes",
         1
        ],
        [
         "Juan Gomez",
         3
        ],
        [
         "Fernando Silva",
         2
        ],
        [
         "Felipe Campos",
         2
        ],
        [
         "Roberto Fernandez",
         2
        ],
        [
         "Emilio Cortes",
         1
        ],
        [
         "Paola Gutierrez",
         1
        ],
        [
         "Jorge Aguilar",
         1
        ],
        [
         "Oscar Ramos",
         2
        ],
        [
         "Carla Rojas",
         3
        ],
        [
         "Clara Mendoza",
         2
        ],
        [
         "Cristina Pena",
         1
        ],
        [
         "Rafael Montalvo",
         1
        ],
        [
         "Ana Ruiz",
         2
        ],
        [
         "Andrea Paredes",
         1
        ],
        [
         "Lucia Sanchez",
         2
        ],
        [
         "Carlos Perez",
         3
        ],
        [
         "Maria Lopez",
         2
        ],
        [
         "Monica Quintana",
         2
        ],
        [
         "Valeria Salazar",
         1
        ],
        [
         "Sofia Jimenez",
         2
        ],
        [
         "Daniela Vega",
         1
        ],
        [
         "Pedro Torres",
         3
        ],
        [
         "Diana Herrera",
         1
        ],
        [
         "Elena Castro",
         1
        ],
        [
         "Luis Castillo",
         2
        ],
        [
         "Martin Diaz",
         2
        ],
        [
         "Lucas Navarro",
         1
        ],
        [
         "Laura Chavez",
         1
        ]
       ],
       "datasetInfos": [],
       "dbfsResultPath": null,
       "isJsonSchema": true,
       "metadata": {},
       "overflow": false,
       "plotOptions": {
        "customPlotOptions": {},
        "displayType": "table",
        "pivotAggregation": null,
        "pivotColumns": null,
        "xColumns": null,
        "yColumns": null
       },
       "removedWidgets": [],
       "schema": [
        {
         "metadata": "{}",
         "name": "nombre",
         "type": "\"string\""
        },
        {
         "metadata": "{}",
         "name": "cantidad_compras",
         "type": "\"long\""
        }
       ],
       "type": "table"
      }
     },
     "output_type": "display_data"
    }
   ],
   "source": [
    "display(clientes_mayor_compras)"
   ]
  },
  {
   "cell_type": "markdown",
   "metadata": {
    "application/vnd.databricks.v1+cell": {
     "cellMetadata": {},
     "inputWidgets": {},
     "nuid": "548a10ae-d3b5-40e5-821c-f04e606b6012",
     "showTitle": false,
     "tableResultSettingsMap": {},
     "title": ""
    }
   },
   "source": [
    "##4. Productos con Baja Venta\n",
    "\n",
    "### Enunciado:\n",
    "Se requiere un reporte que identifique los productos con baja venta, es decir, aquellos con una cantidad total de ventas menor a 15. El reporte debe incluir los siguientes campos:\n",
    "\n",
    "- **Nombre del Producto**  \n",
    "- **Categoría**  \n",
    "- **Cantidad Vendida**  "
   ]
  },
  {
   "cell_type": "code",
   "execution_count": 0,
   "metadata": {
    "application/vnd.databricks.v1+cell": {
     "cellMetadata": {
      "byteLimit": 2048000,
      "rowLimit": 10000
     },
     "inputWidgets": {},
     "nuid": "cf5d6992-dcfb-4b7d-8fad-8213edf412b0",
     "showTitle": false,
     "tableResultSettingsMap": {},
     "title": ""
    }
   },
   "outputs": [],
   "source": [
    "productos_baja_venta = ventas_totales_por_producto.withColumnRenamed(\"total_cantidad_vendida\", \"cantidad_vendida\")\\\n",
    "    .filter(col(\"cantidad_vendida\") < 15) \n"
   ]
  },
  {
   "cell_type": "code",
   "execution_count": 0,
   "metadata": {
    "application/vnd.databricks.v1+cell": {
     "cellMetadata": {
      "byteLimit": 2048000,
      "rowLimit": 10000
     },
     "inputWidgets": {},
     "nuid": "d500a64a-aaf9-4b27-9e33-d9eb80d06462",
     "showTitle": false,
     "tableResultSettingsMap": {},
     "title": ""
    }
   },
   "outputs": [
    {
     "output_type": "display_data",
     "data": {
      "text/html": [
       "<style scoped>\n",
       "  .table-result-container {\n",
       "    max-height: 300px;\n",
       "    overflow: auto;\n",
       "  }\n",
       "  table, th, td {\n",
       "    border: 1px solid black;\n",
       "    border-collapse: collapse;\n",
       "  }\n",
       "  th, td {\n",
       "    padding: 5px;\n",
       "  }\n",
       "  th {\n",
       "    text-align: left;\n",
       "  }\n",
       "</style><div class='table-result-container'><table class='table-result'><thead style='background-color: white'><tr><th>nombre_producto</th><th>categoria</th><th>cantidad_vendida</th></tr></thead><tbody><tr><td>Zapatillas Runner</td><td>Deportes</td><td>5</td></tr><tr><td>Camara Reflex</td><td>Electronica</td><td>8</td></tr><tr><td>Monitor LED</td><td>Electronica</td><td>1</td></tr><tr><td>Tablet 10</td><td>Electronica</td><td>3</td></tr><tr><td>Zapatos Elegantes</td><td>Ropa</td><td>1</td></tr><tr><td>Smartphone X</td><td>Electronica</td><td>2</td></tr><tr><td>Teclado Mecanico</td><td>Electronica</td><td>2</td></tr><tr><td>Impresora Multifuncion</td><td>Oficina</td><td>5</td></tr><tr><td>Laptop Pro</td><td>Electronica</td><td>5</td></tr><tr><td>Sombrero de Paja</td><td>Accesorios</td><td>3</td></tr><tr><td>Silla de Oficina</td><td>Oficina</td><td>7</td></tr><tr><td>Camara de Seguridad</td><td>Electronica</td><td>4</td></tr><tr><td>Control Remoto Universal</td><td>Electronica</td><td>3</td></tr><tr><td>Cartera de Cuero</td><td>Accesorios</td><td>4</td></tr><tr><td>Pantalon Casual</td><td>Ropa</td><td>5</td></tr><tr><td>Cuaderno Premium</td><td>Oficina</td><td>5</td></tr><tr><td>Lentes de Sol</td><td>Accesorios</td><td>10</td></tr><tr><td>Camiseta Basica</td><td>Ropa</td><td>9</td></tr><tr><td>Boligrafo Pack</td><td>Oficina</td><td>6</td></tr><tr><td>Reloj Deportivo</td><td>Deportes</td><td>8</td></tr><tr><td>Bicicleta Montana</td><td>Deportes</td><td>2</td></tr><tr><td>Cargador Rapido</td><td>Electronica</td><td>6</td></tr><tr><td>Escritorio Compacto</td><td>Oficina</td><td>9</td></tr><tr><td>Mochila Urbana</td><td>Accesorios</td><td>4</td></tr><tr><td>Parlantes Portatiles</td><td>Electronica</td><td>9</td></tr><tr><td>Televisor HD</td><td>Electronica</td><td>11</td></tr><tr><td>Auriculares Bluetooth</td><td>Electronica</td><td>5</td></tr><tr><td>Mousepad XL</td><td>Electronica</td><td>2</td></tr><tr><td>Chaqueta de Invierno</td><td>Ropa</td><td>6</td></tr><tr><td>Mouse Gamer</td><td>Electronica</td><td>4</td></tr></tbody></table></div>"
      ]
     },
     "metadata": {
      "application/vnd.databricks.v1+output": {
       "addedWidgets": {},
       "aggData": [],
       "aggError": "",
       "aggOverflow": false,
       "aggSchema": [],
       "aggSeriesLimitReached": false,
       "aggType": "",
       "arguments": {},
       "columnCustomDisplayInfos": {},
       "data": [
        [
         "Zapatillas Runner",
         "Deportes",
         5
        ],
        [
         "Camara Reflex",
         "Electronica",
         8
        ],
        [
         "Monitor LED",
         "Electronica",
         1
        ],
        [
         "Tablet 10",
         "Electronica",
         3
        ],
        [
         "Zapatos Elegantes",
         "Ropa",
         1
        ],
        [
         "Smartphone X",
         "Electronica",
         2
        ],
        [
         "Teclado Mecanico",
         "Electronica",
         2
        ],
        [
         "Impresora Multifuncion",
         "Oficina",
         5
        ],
        [
         "Laptop Pro",
         "Electronica",
         5
        ],
        [
         "Sombrero de Paja",
         "Accesorios",
         3
        ],
        [
         "Silla de Oficina",
         "Oficina",
         7
        ],
        [
         "Camara de Seguridad",
         "Electronica",
         4
        ],
        [
         "Control Remoto Universal",
         "Electronica",
         3
        ],
        [
         "Cartera de Cuero",
         "Accesorios",
         4
        ],
        [
         "Pantalon Casual",
         "Ropa",
         5
        ],
        [
         "Cuaderno Premium",
         "Oficina",
         5
        ],
        [
         "Lentes de Sol",
         "Accesorios",
         10
        ],
        [
         "Camiseta Basica",
         "Ropa",
         9
        ],
        [
         "Boligrafo Pack",
         "Oficina",
         6
        ],
        [
         "Reloj Deportivo",
         "Deportes",
         8
        ],
        [
         "Bicicleta Montana",
         "Deportes",
         2
        ],
        [
         "Cargador Rapido",
         "Electronica",
         6
        ],
        [
         "Escritorio Compacto",
         "Oficina",
         9
        ],
        [
         "Mochila Urbana",
         "Accesorios",
         4
        ],
        [
         "Parlantes Portatiles",
         "Electronica",
         9
        ],
        [
         "Televisor HD",
         "Electronica",
         11
        ],
        [
         "Auriculares Bluetooth",
         "Electronica",
         5
        ],
        [
         "Mousepad XL",
         "Electronica",
         2
        ],
        [
         "Chaqueta de Invierno",
         "Ropa",
         6
        ],
        [
         "Mouse Gamer",
         "Electronica",
         4
        ]
       ],
       "datasetInfos": [],
       "dbfsResultPath": null,
       "isJsonSchema": true,
       "metadata": {},
       "overflow": false,
       "plotOptions": {
        "customPlotOptions": {},
        "displayType": "table",
        "pivotAggregation": null,
        "pivotColumns": null,
        "xColumns": null,
        "yColumns": null
       },
       "removedWidgets": [],
       "schema": [
        {
         "metadata": "{}",
         "name": "nombre_producto",
         "type": "\"string\""
        },
        {
         "metadata": "{}",
         "name": "categoria",
         "type": "\"string\""
        },
        {
         "metadata": "{}",
         "name": "cantidad_vendida",
         "type": "\"long\""
        }
       ],
       "type": "table"
      }
     },
     "output_type": "display_data"
    }
   ],
   "source": [
    "display(productos_baja_venta)"
   ]
  },
  {
   "cell_type": "markdown",
   "metadata": {
    "application/vnd.databricks.v1+cell": {
     "cellMetadata": {},
     "inputWidgets": {},
     "nuid": "7fc837e5-ca91-4989-8381-8b9c754d8980",
     "showTitle": false,
     "tableResultSettingsMap": {},
     "title": ""
    }
   },
   "source": [
    "## Escritura de Tablas Resultantes\n"
   ]
  },
  {
   "cell_type": "code",
   "execution_count": 0,
   "metadata": {
    "application/vnd.databricks.v1+cell": {
     "cellMetadata": {
      "byteLimit": 2048000,
      "rowLimit": 10000
     },
     "inputWidgets": {},
     "nuid": "b4a8e736-a24a-4ce9-aa39-dee1054b52cc",
     "showTitle": false,
     "tableResultSettingsMap": {},
     "title": ""
    }
   },
   "outputs": [],
   "source": [
    "ventas_totales_por_producto.write.mode(\"overwrite\").saveAsTable(\"proyectofinal.ventas_totales_por_producto\")\n",
    "productos_precios_ventas.write.mode(\"overwrite\").saveAsTable(\"proyectofinal.productos_precios_ventaso\")\n",
    "clientes_mayor_compras.write.mode(\"overwrite\").saveAsTable(\"proyectofinal.clientes_mayor_compras\")\n",
    "productos_baja_venta.write.mode(\"overwrite\").saveAsTable(\"proyectofinal.productos_baja_venta\")"
   ]
  },
  {
   "cell_type": "markdown",
   "metadata": {
    "application/vnd.databricks.v1+cell": {
     "cellMetadata": {},
     "inputWidgets": {},
     "nuid": "03e3ba01-789c-4da6-9321-8d4373f25663",
     "showTitle": false,
     "tableResultSettingsMap": {},
     "title": ""
    }
   },
   "source": [
    "Espero que el proyecto sea de su agrado y cualquier recomendacion sera agradecido. Gracias\n",
    "\n",
    "**Desarrollado por: Yhomira Alexandra Yupayccana Lopa**  \n"
   ]
  }
 ],
 "metadata": {
  "application/vnd.databricks.v1+notebook": {
   "computePreferences": null,
   "dashboards": [],
   "environmentMetadata": {
    "base_environment": "",
    "client": "1"
   },
   "language": "python",
   "notebookMetadata": {
    "mostRecentlyExecutedCommandWithImplicitDF": {
     "commandId": 187632935583493,
     "dataframes": [
      "_sqldf"
     ]
    },
    "pythonIndentUnit": 4
   },
   "notebookName": "ProyectoFinal-DataLake-YhomiraAlexandraYupayccanaLopa",
   "widgets": {}
  }
 },
 "nbformat": 4,
 "nbformat_minor": 0
}
